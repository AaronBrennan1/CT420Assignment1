{
 "cells": [
  {
   "cell_type": "markdown",
   "id": "4891f2e2",
   "metadata": {},
   "source": [
    "# Read in student choices and create a dictionary corresponding to the score of each choice"
   ]
  },
  {
   "cell_type": "code",
   "execution_count": 5,
   "id": "69d8fee1",
   "metadata": {
    "scrolled": true
   },
   "outputs": [],
   "source": [
    "import pandas as pd\n",
    "import numpy as np\n",
    "import random\n",
    "import numpy.random as npr\n",
    "import matplotlib.pyplot as plt\n",
    "\n",
    "students = pd.read_csv('Student-choices.csv')\n",
    "\n",
    "student_scores = {}\n",
    "\n",
    "for index, row in students.iterrows():\n",
    "    student_scores[str(index+1)] = {}\n",
    "    for i in range(22):\n",
    "        i=i+1\n",
    "        student_scores[str(index+1)][str(row[str(i)])] = i\n",
    "\n"
   ]
  },
  {
   "cell_type": "markdown",
   "id": "201302e8",
   "metadata": {},
   "source": [
    "# Read in supervisor availability, creating a list of supervisors. If a supervisor has a capacity of n, they will appear n  in this list"
   ]
  },
  {
   "cell_type": "code",
   "execution_count": 6,
   "id": "77f47868",
   "metadata": {
    "scrolled": true
   },
   "outputs": [],
   "source": [
    "supervisors = pd.read_csv('Supervisors.csv')\n",
    "\n",
    "sv = []\n",
    "for index, row in supervisors.iterrows():\n",
    "    \n",
    "    num = row['Supervisors'].split('_')[-1]\n",
    "    capacity = int(row['Capacity'])\n",
    "    for i in range(capacity):        \n",
    "        sv.append(num)\n",
    "sv = np.array(sv)\n"
   ]
  },
  {
   "cell_type": "markdown",
   "id": "6d9c33d0",
   "metadata": {},
   "source": [
    "# Functions"
   ]
  },
  {
   "cell_type": "code",
   "execution_count": 29,
   "id": "d3ebdd87",
   "metadata": {
    "scrolled": true
   },
   "outputs": [],
   "source": [
    "def generate_random_sample(length):    \n",
    "    sample = []    \n",
    "    numbers = np.random.choice(sv, length, replace=False) \n",
    "    for i in range(length):\n",
    "        sample.append([str(i+1), numbers[i]])\n",
    "    sample = np.array(sample)\n",
    "    return sample\n",
    "\n",
    "# There are 2 fitness functions, evaluate_fitness is used for evolving the population, the higher the score the better\n",
    "# the actual fitness function is the inverse of the previous function. The lower the score the better. \n",
    "# The actual fitness fucntion will be used for interpreting results and plotting the graph of fitness\n",
    "\n",
    "def evaluate_fitness(sample):\n",
    "    score = 0\n",
    "    for x in sample:\n",
    "        \n",
    "        s = student_scores[x[0]][x[1]]\n",
    "        \n",
    "        s= 23-s\n",
    "        score = score+s        \n",
    "    return score\n",
    "\n",
    "def evaluate_actual_fitness(sample):\n",
    "    score = 0\n",
    "    for x in sample:\n",
    "        s = student_scores[x[0]][x[1]]        \n",
    "        score = score+s        \n",
    "    return score\n",
    "\n",
    "#swap 2 students supervisors\n",
    "def mutate(sample, length):\n",
    "    # if all supervisors are used we can swap\n",
    "    sample = sample.copy()\n",
    "    if len(sv) == length:\n",
    "        index1 = random.randint(0, len(sample) - 1)\n",
    "        index2 = random.randint(0, len(sample) - 1)\n",
    "        sample[index1][1] = sample[index2][1]\n",
    "        sample[index2][1] = sample[index1][1]\n",
    "        return sample\n",
    "    \n",
    "    # otherwise swapping may result in some supervisors not getting looked at\n",
    "    # find supervisors not being used and replace supervisor with one student\n",
    "    else:\n",
    "        svs_used = []\n",
    "        for x in sample:\n",
    "            svs_used.append(x[1])\n",
    "        svs_remaining = [item for item in sv if item not in svs_used]\n",
    "        \n",
    "       \n",
    "        random_sv = svs_remaining[random.randint(0, len(svs_remaining) - 1)]\n",
    "        index = random.randint(0, len(sample) - 1)\n",
    "        sample[index][1] = random_sv\n",
    "        return sample\n",
    "    \n",
    "    \n",
    "# cross over function:\n",
    "# child is randomly assigned different mappings from different parents\n",
    "# it gets quite complex to make sure all supervisors are not overbooked\n",
    "        \n",
    "def crossover(parent1, parent2, length):\n",
    "    # indexs represent a random ordering of the first #length students\n",
    "    indexs = np.random.choice(range(length), length, replace=False)\n",
    "    \n",
    "    mapping = [] #new combination of mappings created from the 2 parents\n",
    "    for index in indexs: \n",
    "        x=random.randint(0, 1) # 50-50 chance each student gets the lecturer assigned to for each parent\n",
    "        if x == 0:\n",
    "            p1_sample = parent1[index]\n",
    "            mapping.append(p1_sample)\n",
    "            \n",
    "        else:\n",
    "            p2_sample = parent2[index]\n",
    "            mapping.append(p2_sample)\n",
    "    \n",
    "    # now we have mappings but some lecturers may be overloaded with students\n",
    "    # to fix this we will assign some of the students random available lecturers\n",
    "    svs_available = sv.copy()\n",
    "    unavailable_instances = []\n",
    "    \n",
    "    mapping = np.array(mapping)\n",
    "    for i in range(len(mapping)):\n",
    "        if mapping[i][1] in svs_available: #if the lectuter is free for that student remove from the list\n",
    "            svs_available = np.delete(svs_available, np.where(svs_available==mapping[i][1])[0][0])\n",
    "            \n",
    "        elif parent1[indexs[i]][1] in svs_available and parent1[indexs[i]][1] != mapping[i][1]:    \n",
    "                       \n",
    "            svs_available = np.delete(svs_available, np.where(svs_available==parent1[indexs[i]][1])[0][0])\n",
    "            mapping[i] = parent1[[indexs[i]]]\n",
    "                        \n",
    "        elif parent2[indexs[i]][1] in svs_available and parent2[indexs[i]][1] != mapping[i][1]: \n",
    "            \n",
    "            svs_available = np.delete(svs_available, np.where(svs_available==parent2[indexs[i]][1])[0][0])\n",
    "            mapping[i] = parent2[[indexs[i]]]\n",
    "            \n",
    "        else:\n",
    "            unavailable_instances.append(i)\n",
    "    for i in unavailable_instances:\n",
    "        \n",
    "        available_supervisor = np.random.choice(svs_available)\n",
    "        mapping[i][1] = available_supervisor\n",
    "        svs_available = np.delete(svs_available, np.where(svs_available==available_supervisor)[0][0])\n",
    "        \n",
    "    # ------ this part is just me awkwardly trying to order the sample \n",
    "    mapping_list = mapping.copy().tolist() \n",
    "    \n",
    "    for i in range(len(mapping_list)):\n",
    "        mapping_list[i][0] = int(mapping_list[i][0])\n",
    "    \n",
    "    mapping_list = sorted(mapping_list,key=lambda x: (x[0],x[1]))\n",
    "    for i in range(len(mapping_list)):\n",
    "        mapping_list[i][0] = str(mapping_list[i][0])\n",
    "        \n",
    "    return np.array(mapping_list)\n",
    "    \n",
    "    \n",
    "\n",
    "def select_parent_roulette(population, fitness_values):    \n",
    "    \n",
    "    maximum = sum(fitness_values)    \n",
    "    selection_probs = [x/maximum for x in fitness_values]\n",
    "    return population[npr.choice(len(population), p=selection_probs)]\n",
    "\n",
    "def select_best_parent(population, fitness_values):\n",
    "    \n",
    "    fitness_values = np.array(fitness_values)\n",
    "    return population[fitness_values.argmax()]\n",
    "\n"
   ]
  },
  {
   "cell_type": "markdown",
   "id": "fc69572c",
   "metadata": {},
   "source": [
    "# Test on small dataset first"
   ]
  },
  {
   "cell_type": "code",
   "execution_count": 13,
   "id": "7b9d412e",
   "metadata": {
    "scrolled": false
   },
   "outputs": [
    {
     "data": {
      "image/png": "[encoded data removed]",
      "text/plain": [
       "<Figure size 432x288 with 1 Axes>"
      ]
     },
     "metadata": {
      "needs_background": "light"
     },
     "output_type": "display_data"
    }
   ],
   "source": [
    "def genetic_algorithm(population_size, length, generations, mutation_rate):\n",
    "    population = [generate_random_sample(length) for _ in range(population_size)]\n",
    "    fitness_values = [evaluate_fitness(sample) for sample in population]\n",
    "    actual_fitness_values = [evaluate_actual_fitness(sample) for sample in population]\n",
    "    \n",
    "    average_fitness = []\n",
    "    average_actual_fitness = []\n",
    "    \n",
    "    for generation in range(generations):\n",
    "        #print(generation)\n",
    "        average_fitness.append(sum(fitness_values) / len(fitness_values))\n",
    "        average_actual_fitness.append(sum(actual_fitness_values) / len(actual_fitness_values))\n",
    "        new_population = []\n",
    "        while len(new_population) < population_size:\n",
    "            parent1 = select_parent_roulette(population, fitness_values)\n",
    "            parent2 = select_best_parent(population, fitness_values)\n",
    "            child = crossover(parent1, parent2, length)\n",
    "            if random.random() < mutation_rate:\n",
    "                child = mutate(child, length)\n",
    "            \n",
    "                \n",
    "            new_population.append(child)\n",
    "        \n",
    "        population = new_population\n",
    "        fitness_values = [evaluate_fitness(sample) for sample in population]\n",
    "        actual_fitness_values = [evaluate_actual_fitness(sample) for sample in population]\n",
    "    return average_actual_fitness\n",
    "\n",
    "population_size = 100\n",
    "length = 10 #FIRST 10 students\n",
    "generations = 100\n",
    "\n",
    "mutation_rate = 0.1\n",
    "\n",
    "average_fitness = genetic_algorithm(population_size, length, generations, mutation_rate)\n",
    "\n",
    "plt.plot(average_fitness)\n",
    "plt.xlabel(\"Generation\")\n",
    "plt.ylabel(\"Average Fitness\")\n",
    "plt.show()\n"
   ]
  },
  {
   "cell_type": "markdown",
   "id": "4efeaf79",
   "metadata": {},
   "source": [
    "A best average score of  under 20 (roughly 15) would indicate on average each student got their 1.5th preference, or a student either got their first or second preference on average"
   ]
  },
  {
   "cell_type": "markdown",
   "id": "070e49a6",
   "metadata": {},
   "source": [
    "# Test on full dataset,  both parents selected roulette (too noisy)\n"
   ]
  },
  {
   "cell_type": "code",
   "execution_count": 21,
   "id": "dd40e667",
   "metadata": {},
   "outputs": [
    {
     "data": {
      "image/png": "[encoded data removed]",
      "text/plain": [
       "<Figure size 432x288 with 1 Axes>"
      ]
     },
     "metadata": {
      "needs_background": "light"
     },
     "output_type": "display_data"
    }
   ],
   "source": [
    "def genetic_algorithm(population_size, length, generations, mutation_rate):\n",
    "    population = [generate_random_sample(length) for _ in range(population_size)]\n",
    "    fitness_values = [evaluate_fitness(sample) for sample in population]\n",
    "    actual_fitness_values = [evaluate_actual_fitness(sample) for sample in population]\n",
    "    \n",
    "    average_fitness = []\n",
    "    average_actual_fitness = []\n",
    "    \n",
    "    for generation in range(generations):\n",
    "        #print(generation)\n",
    "        average_fitness.append(sum(fitness_values) / len(fitness_values))\n",
    "        average_actual_fitness.append(sum(actual_fitness_values) / len(actual_fitness_values))\n",
    "        new_population = []\n",
    "        while len(new_population) < population_size:\n",
    "            parent1 = select_parent_roulette(population, fitness_values)\n",
    "            parent2 = select_parent_roulette(population, fitness_values)\n",
    "            child = crossover(parent1, parent2, length)\n",
    "            if random.random() < mutation_rate:\n",
    "                child = mutate(child, length)\n",
    "            \n",
    "                \n",
    "            new_population.append(child)\n",
    "        \n",
    "        population = new_population\n",
    "        fitness_values = [evaluate_fitness(sample) for sample in population]\n",
    "        actual_fitness_values = [evaluate_actual_fitness(sample) for sample in population]\n",
    "    return average_actual_fitness\n",
    "\n",
    "population_size = 100\n",
    "length = 46 #all students\n",
    "generations = 300\n",
    "\n",
    "mutation_rate = 0.1\n",
    "\n",
    "average_fitness = genetic_algorithm(population_size, length, generations, mutation_rate)\n",
    "\n",
    "plt.plot(average_fitness)\n",
    "plt.xlabel(\"Generation\")\n",
    "plt.ylabel(\"Average Fitness\")\n",
    "plt.show()\n"
   ]
  },
  {
   "cell_type": "markdown",
   "id": "38e86157",
   "metadata": {},
   "source": [
    "choosing both parents by roulette is not optimal"
   ]
  },
  {
   "cell_type": "markdown",
   "id": "4e64d5ac",
   "metadata": {},
   "source": [
    "# Test on full dataset only picking the best parent, no crossover (not enough variation)"
   ]
  },
  {
   "cell_type": "code",
   "execution_count": 28,
   "id": "685e9ed5",
   "metadata": {},
   "outputs": [
    {
     "data": {
      "image/png": "[encoded data removed]",
      "text/plain": [
       "<Figure size 432x288 with 1 Axes>"
      ]
     },
     "metadata": {
      "needs_background": "light"
     },
     "output_type": "display_data"
    }
   ],
   "source": [
    "def genetic_algorithm(population_size, length, generations, mutation_rate):\n",
    "    population = [generate_random_sample(length) for _ in range(population_size)]\n",
    "    fitness_values = [evaluate_fitness(sample) for sample in population]\n",
    "    actual_fitness_values = [evaluate_actual_fitness(sample) for sample in population]\n",
    "    \n",
    "    average_fitness = []\n",
    "    average_actual_fitness = []\n",
    "    \n",
    "    for generation in range(generations):\n",
    "        #print(generation)\n",
    "        average_fitness.append(sum(fitness_values) / len(fitness_values))\n",
    "        average_actual_fitness.append(sum(actual_fitness_values) / len(actual_fitness_values))\n",
    "        new_population = []\n",
    "        while len(new_population) < population_size:\n",
    "            child = select_parent_roulette(population, fitness_values)\n",
    "            \n",
    "            \n",
    "            if random.random() < mutation_rate:\n",
    "                child = mutate(child, length)\n",
    "            \n",
    "                \n",
    "            new_population.append(child)\n",
    "        \n",
    "        population = new_population\n",
    "        fitness_values = [evaluate_fitness(sample) for sample in population]\n",
    "        actual_fitness_values = [evaluate_actual_fitness(sample) for sample in population]\n",
    "    return average_actual_fitness\n",
    "\n",
    "population_size = 100\n",
    "length = 46 #all students\n",
    "generations = 300\n",
    "\n",
    "mutation_rate = 0.1\n",
    "\n",
    "average_fitness = genetic_algorithm(population_size, length, generations, mutation_rate)\n",
    "\n",
    "plt.plot(average_fitness)\n",
    "plt.xlabel(\"Generation\")\n",
    "plt.ylabel(\"Average Fitness\")\n",
    "plt.show()\n"
   ]
  },
  {
   "cell_type": "markdown",
   "id": "a878eeb1",
   "metadata": {},
   "source": [
    "Not enough variation to achieve good results"
   ]
  },
  {
   "cell_type": "markdown",
   "id": "862b29e8",
   "metadata": {},
   "source": [
    "# Test on full dataset (best parent and roulette parent crossover)"
   ]
  },
  {
   "cell_type": "code",
   "execution_count": 31,
   "id": "42efc110",
   "metadata": {},
   "outputs": [
    {
     "data": {
      "image/png": "[encoded data removed]",
      "text/plain": [
       "<Figure size 432x288 with 1 Axes>"
      ]
     },
     "metadata": {
      "needs_background": "light"
     },
     "output_type": "display_data"
    }
   ],
   "source": [
    "def genetic_algorithm(population_size, length, generations, mutation_rate):\n",
    "    population = [generate_random_sample(length) for _ in range(population_size)]\n",
    "    fitness_values = [evaluate_fitness(sample) for sample in population]\n",
    "    actual_fitness_values = [evaluate_actual_fitness(sample) for sample in population]\n",
    "    \n",
    "    average_fitness = []\n",
    "    average_actual_fitness = []\n",
    "    \n",
    "    for generation in range(generations):\n",
    "        #print(generation)\n",
    "        average_fitness.append(sum(fitness_values) / len(fitness_values))\n",
    "        average_actual_fitness.append(sum(actual_fitness_values) / len(actual_fitness_values))\n",
    "        new_population = []\n",
    "        while len(new_population) < population_size:\n",
    "            parent1 = select_parent_roulette(population, fitness_values)\n",
    "            parent2 = select_best_parent(population, fitness_values)\n",
    "            child = crossover(parent1, parent2, length)\n",
    "            if random.random() < mutation_rate:\n",
    "                child = mutate(child, length)\n",
    "            \n",
    "                \n",
    "            new_population.append(child)\n",
    "        \n",
    "        population = new_population\n",
    "        fitness_values = [evaluate_fitness(sample) for sample in population]\n",
    "        actual_fitness_values = [evaluate_actual_fitness(sample) for sample in population]\n",
    "    return average_actual_fitness\n",
    "\n",
    "population_size = 100\n",
    "length = 46 #all students\n",
    "generations = 300\n",
    "\n",
    "mutation_rate = 0.1\n",
    "\n",
    "average_fitness = genetic_algorithm(population_size, length, generations, mutation_rate)\n",
    "\n",
    "plt.plot(average_fitness)\n",
    "plt.xlabel(\"Generation\")\n",
    "plt.ylabel(\"Average Fitness\")\n",
    "plt.show()\n"
   ]
  },
  {
   "cell_type": "code",
   "execution_count": 27,
   "id": "a8edc027",
   "metadata": {},
   "outputs": [
    {
     "data": {
      "text/plain": [
       "2.1739130434782608"
      ]
     },
     "execution_count": 27,
     "metadata": {},
     "output_type": "execute_result"
    }
   ],
   "source": [
    "average_preference = 100/46\n",
    "average_preference"
   ]
  },
  {
   "cell_type": "markdown",
   "id": "234e4720",
   "metadata": {},
   "source": [
    "Every student gets just over their 2nd preference on average after 300 generations of evolution"
   ]
  }
 ],
 "metadata": {
  "kernelspec": {
   "display_name": "Python 3 (ipykernel)",
   "language": "python",
   "name": "python3"
  },
  "language_info": {
   "codemirror_mode": {
    "name": "ipython",
    "version": 3
   },
   "file_extension": ".py",
   "mimetype": "text/x-python",
   "name": "python",
   "nbconvert_exporter": "python",
   "pygments_lexer": "ipython3",
   "version": "3.9.7"
  }
 },
 "nbformat": 4,
 "nbformat_minor": 5
}
