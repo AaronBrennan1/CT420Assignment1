{
 "cells": [
  {
   "cell_type": "markdown",
   "id": "5f311694",
   "metadata": {},
   "source": [
    "# Functions "
   ]
  },
  {
   "cell_type": "code",
   "execution_count": 2,
   "id": "eddb836c",
   "metadata": {},
   "outputs": [],
   "source": [
    "import random\n",
    "import matplotlib.pyplot as plt\n",
    "import numpy.random as npr\n",
    "import numpy as np\n",
    "\n",
    "def generate_random_string(length): # for part ii to generate a random string for the population\n",
    "    return [random.randint(0, 1) for _ in range(length)]\n",
    "\n",
    "def evaluate_fitness(string): \n",
    "    return sum(string) #fitness = #1's\n",
    "\n",
    "def mutate(string): #flip a bit\n",
    "    index = random.randint(0, len(string) - 1)\n",
    "    mutated_string = string.copy()\n",
    "    mutated_string[index] = 0 if mutated_string[index] else 1\n",
    "    return mutated_string\n",
    "\n",
    "\n",
    "# for crossover, use the 1st parents information from index 0--> n, \n",
    "# then get the 2nd parents information from index n --> 30 (size of string)\n",
    "def single_point_crossover(parent1, parent2):\n",
    "    index = random.randint(1, len(parent1) - 2)\n",
    "    child = parent1[:index] + parent2[index:]\n",
    "    return child\n",
    "\n",
    "\n",
    "# function to select the best parent based on probabilities\n",
    "def select_parent_roulette(population, fitness_values):\n",
    "    maximum = sum(fitness_values)\n",
    "\n",
    "    selection_probs = [x/maximum for x in fitness_values]\n",
    "\n",
    "    return population[npr.choice(len(population), p=selection_probs)]\n",
    "\n",
    "# function to only select the best parent\n",
    "def select_best_parent(population, fitness_values):\n",
    "    fitness_values = np.array(fitness_values)\n",
    "    return population[fitness_values.argmax()]\n",
    "\n"
   ]
  },
  {
   "cell_type": "markdown",
   "id": "84b8ee24",
   "metadata": {},
   "source": [
    "# Part (A) (i) using single point crossover and parent selection by roulette wheel "
   ]
  },
  {
   "cell_type": "code",
   "execution_count": 14,
   "id": "80d2d3a0",
   "metadata": {
    "scrolled": true
   },
   "outputs": [
    {
     "data": {
      "image/png": "[encoded data removed]",
      "text/plain": [
       "<Figure size 432x288 with 1 Axes>"
      ]
     },
     "metadata": {
      "needs_background": "light"
     },
     "output_type": "display_data"
    }
   ],
   "source": [
    "def genetic_algorithm(population_size, string_length, generations, mutation_rate):\n",
    "    \n",
    "    population = [generate_random_string(string_length) for _ in range(population_size)] #30 random bit strings generated\n",
    "    fitness_values = [evaluate_fitness(string) for string in population] #array of fitness values\n",
    "    \n",
    "    average_fitness = [] #average fitness used for plotting score across generations\n",
    "    for generation in range(generations):\n",
    "        average_fitness.append(sum(fitness_values) / len(fitness_values))\n",
    "        new_population = []\n",
    "        \n",
    "        while len(new_population) < population_size:\n",
    "            parent1 = select_parent_roulette(population, fitness_values)\n",
    "            parent2 = select_parent_roulette(population, fitness_values)\n",
    "            child = single_point_crossover(parent1, parent2)\n",
    "            if random.random() < mutation_rate:\n",
    "                child = mutate(child)\n",
    "            \n",
    "            # after 2 parents randomly chosen and combined through crossover and maybe after mutation a new child is created\n",
    "            new_population.append(child)\n",
    "        \n",
    "        population = new_population\n",
    "        fitness_values = [evaluate_fitness(string) for string in population] #fitness values calculated for new generation\n",
    "        \n",
    "    return average_fitness\n",
    "\n",
    "population_size = 100 \n",
    "string_length = 30\n",
    "generations = 200\n",
    "mutation_rate = 0.01\n",
    "\n",
    "average_fitness = genetic_algorithm(population_size, string_length, generations, mutation_rate)\n",
    "\n",
    "plt.plot(average_fitness)\n",
    "plt.xlabel(\"Generation\")\n",
    "plt.ylabel(\"Average Fitness\")\n",
    "plt.show()\n"
   ]
  },
  {
   "cell_type": "markdown",
   "id": "df21c532",
   "metadata": {},
   "source": [
    "# Part (A) (i) Only picking the best parent (only evolving through mutation)"
   ]
  },
  {
   "cell_type": "markdown",
   "id": "5faecf5b",
   "metadata": {},
   "source": [
    "Interesting to see how little variation is needed for the algorithm to reach an optimal solution in this case"
   ]
  },
  {
   "cell_type": "code",
   "execution_count": 17,
   "id": "c85f925b",
   "metadata": {},
   "outputs": [
    {
     "data": {
      "image/png": "[encoded data removed]",
      "text/plain": [
       "<Figure size 432x288 with 1 Axes>"
      ]
     },
     "metadata": {
      "needs_background": "light"
     },
     "output_type": "display_data"
    }
   ],
   "source": [
    "def genetic_algorithm(population_size, string_length, generations, mutation_rate):\n",
    "    \n",
    "    population = [generate_random_string(string_length) for _ in range(population_size)] #30 random bit strings generated\n",
    "    fitness_values = [evaluate_fitness(string) for string in population] #array of fitness values\n",
    "    \n",
    "    average_fitness = [] #average fitness used for plotting score across generations\n",
    "    for generation in range(generations):\n",
    "        average_fitness.append(sum(fitness_values) / len(fitness_values))\n",
    "        new_population = []\n",
    "        while len(new_population) < population_size:\n",
    "            \n",
    "            child = select_best_parent(population, fitness_values) #children are all just the same parent from previous generation\n",
    "            \n",
    "            if random.random() < mutation_rate:\n",
    "                child = mutate(child)\n",
    "            \n",
    "                \n",
    "            new_population.append(child)\n",
    "        \n",
    "        population = new_population\n",
    "        fitness_values = [evaluate_fitness(string) for string in population] #fitness values calculated for new generation\n",
    "        \n",
    "    return average_fitness\n",
    "\n",
    "population_size = 100\n",
    "string_length = 30\n",
    "generations = 100\n",
    "mutation_rate = 0.2\n",
    "\n",
    "average_fitness = genetic_algorithm(population_size, string_length, generations, mutation_rate)\n",
    "\n",
    "plt.plot(average_fitness)\n",
    "plt.xlabel(\"Generation\")\n",
    "plt.ylabel(\"Average Fitness\")\n",
    "plt.show()"
   ]
  },
  {
   "cell_type": "markdown",
   "id": "2a175e9a",
   "metadata": {},
   "source": [
    "# Part (A) (ii) using roulette wheel parent selection and crossover"
   ]
  },
  {
   "cell_type": "code",
   "execution_count": 36,
   "id": "b5e9a549",
   "metadata": {},
   "outputs": [],
   "source": [
    "# NEW FITNESS FUNCTION\n",
    "\n",
    "# Assuming target and string are strings of the same length:\n",
    "def evaluate_fitness_ii(target, string):\n",
    "    score=0\n",
    "    for i in range(len(target)):        \n",
    "        if target[i] == string[i]:\n",
    "            score= score+1\n",
    "            \n",
    "    \n",
    "    return score"
   ]
  },
  {
   "cell_type": "code",
   "execution_count": 41,
   "id": "8b62a2b3",
   "metadata": {},
   "outputs": [
    {
     "data": {
      "image/png": "[encoded data removed]",
      "text/plain": [
       "<Figure size 432x288 with 1 Axes>"
      ]
     },
     "metadata": {
      "needs_background": "light"
     },
     "output_type": "display_data"
    }
   ],
   "source": [
    "def genetic_algorithm_ii(population_size, string_length, generations, mutation_rate, target):\n",
    "    \n",
    "    population = [generate_random_string(string_length) for _ in range(population_size)] #30 random bit strings generated\n",
    "    fitness_values = [evaluate_fitness(string) for string in population] #array of fitness values\n",
    "    \n",
    "    average_fitness = [] #average fitness used for plotting score across generations\n",
    "    for generation in range(generations):\n",
    "        average_fitness.append(sum(fitness_values) / len(fitness_values))\n",
    "        new_population = []\n",
    "        while len(new_population) < population_size:\n",
    "            \n",
    "            parent1 = select_parent_roulette(population, fitness_values)\n",
    "            parent2 = select_parent_roulette(population, fitness_values)\n",
    "            child = single_point_crossover(parent1, parent2)            \n",
    "            \n",
    "            if random.random() < mutation_rate:\n",
    "                child = mutate(child)\n",
    "            \n",
    "                \n",
    "            new_population.append(child)\n",
    "        \n",
    "        population = new_population\n",
    "        fitness_values = [evaluate_fitness_ii(target, string) for string in population]\n",
    "        \n",
    "    return average_fitness\n",
    "\n",
    "population_size = 100\n",
    "string_length = 30\n",
    "generations = 200\n",
    "mutation_rate = 0.01\n",
    "\n",
    "# Target randomly chosen:\n",
    "target=generate_random_string(string_length)\n",
    "average_fitness = genetic_algorithm_ii(population_size, string_length, generations, mutation_rate, target)\n",
    "\n",
    "plt.plot(average_fitness)\n",
    "plt.xlabel(\"Generation\")\n",
    "plt.ylabel(\"Average Fitness\")\n",
    "plt.show()"
   ]
  },
  {
   "cell_type": "markdown",
   "id": "ba9127c0",
   "metadata": {},
   "source": [
    "# Part (A) (ii) using only mutation from best parent (no crossover)"
   ]
  },
  {
   "cell_type": "code",
   "execution_count": 26,
   "id": "e20da571",
   "metadata": {},
   "outputs": [
    {
     "data": {
      "image/png": "[encoded data removed]",
      "text/plain": [
       "<Figure size 432x288 with 1 Axes>"
      ]
     },
     "metadata": {
      "needs_background": "light"
     },
     "output_type": "display_data"
    }
   ],
   "source": [
    "def genetic_algorithm_ii(population_size, string_length, generations, mutation_rate, target):\n",
    "    \n",
    "    population = [generate_random_string(string_length) for _ in range(population_size)] #30 random bit strings generated\n",
    "    fitness_values = [evaluate_fitness(string) for string in population] #array of fitness values\n",
    "    \n",
    "    average_fitness = [] #average fitness used for plotting score across generations\n",
    "    for generation in range(generations):\n",
    "        average_fitness.append(sum(fitness_values) / len(fitness_values))\n",
    "        new_population = []\n",
    "        while len(new_population) < population_size:\n",
    "            \n",
    "            child = select_best_parent(population, fitness_values) #best parent chosen every time            \n",
    "            \n",
    "            if random.random() < mutation_rate:\n",
    "                child = mutate(child)\n",
    "            \n",
    "                \n",
    "            new_population.append(child)\n",
    "        \n",
    "        population = new_population\n",
    "        fitness_values = [evaluate_fitness_ii(target, string) for string in population]\n",
    "        \n",
    "    return average_fitness\n",
    "\n",
    "population_size = 100\n",
    "string_length = 30\n",
    "generations = 100\n",
    "mutation_rate = 0.1\n",
    "\n",
    "# Target randomly chosen:\n",
    "target=generate_random_string(string_length)\n",
    "average_fitness = genetic_algorithm_ii(population_size, string_length, generations, mutation_rate, target)\n",
    "\n",
    "plt.plot(average_fitness)\n",
    "plt.xlabel(\"Generation\")\n",
    "plt.ylabel(\"Average Fitness\")\n",
    "plt.show()"
   ]
  },
  {
   "cell_type": "markdown",
   "id": "cfefe567",
   "metadata": {},
   "source": [
    "# Part A (iii) Deceptive landscape"
   ]
  },
  {
   "cell_type": "code",
   "execution_count": 29,
   "id": "dd63b06e",
   "metadata": {},
   "outputs": [],
   "source": [
    "# New fitness function\n",
    "\n",
    "def evaluate_fitness_iii(string): \n",
    "    score = sum(string)\n",
    "    if score == 0:\n",
    "        return len(string)*2\n",
    "    else:\n",
    "        return sum(string) #fitness = #1's"
   ]
  },
  {
   "cell_type": "code",
   "execution_count": 31,
   "id": "89cf9557",
   "metadata": {},
   "outputs": [
    {
     "data": {
      "image/png": "[encoded data removed]",
      "text/plain": [
       "<Figure size 432x288 with 1 Axes>"
      ]
     },
     "metadata": {
      "needs_background": "light"
     },
     "output_type": "display_data"
    }
   ],
   "source": [
    "def genetic_algorithm(population_size, string_length, generations, mutation_rate):\n",
    "    \n",
    "    population = [generate_random_string(string_length) for _ in range(population_size)] #30 random bit strings generated\n",
    "    fitness_values = [evaluate_fitness_iii(string) for string in population] #array of fitness values\n",
    "    \n",
    "    average_fitness = [] #average fitness used for plotting score across generations\n",
    "    for generation in range(generations):\n",
    "        average_fitness.append(sum(fitness_values) / len(fitness_values))\n",
    "        new_population = []\n",
    "        \n",
    "        while len(new_population) < population_size:\n",
    "            parent1 = select_parent_roulette(population, fitness_values)\n",
    "            parent2 = select_parent_roulette(population, fitness_values)\n",
    "            child = single_point_crossover(parent1, parent2)\n",
    "            if random.random() < mutation_rate:\n",
    "                child = mutate(child)\n",
    "            \n",
    "            # after 2 parents randomly chosen and combined through crossover and maybe after mutation a new child is created\n",
    "            new_population.append(child)\n",
    "        \n",
    "        population = new_population\n",
    "        fitness_values = [evaluate_fitness_iii(string) for string in population] #fitness values calculated for new generation\n",
    "        \n",
    "    return average_fitness\n",
    "\n",
    "population_size = 100 \n",
    "string_length = 30\n",
    "generations = 200\n",
    "mutation_rate = 0.01\n",
    "\n",
    "average_fitness = genetic_algorithm(population_size, string_length, generations, mutation_rate)\n",
    "\n",
    "plt.plot(average_fitness)\n",
    "plt.xlabel(\"Generation\")\n",
    "plt.ylabel(\"Average Fitness\")\n",
    "plt.show()\n"
   ]
  },
  {
   "cell_type": "markdown",
   "id": "60d0a1a4",
   "metadata": {},
   "source": [
    "# Part A (iv)"
   ]
  },
  {
   "cell_type": "markdown",
   "id": "792a6fed",
   "metadata": {},
   "source": [
    "Updating some functions:"
   ]
  },
  {
   "cell_type": "code",
   "execution_count": 32,
   "id": "2c4947f8",
   "metadata": {},
   "outputs": [],
   "source": [
    "# NEW FITNESS FUNCTION\n",
    "\n",
    "# Assuming target and string are strings of the same length:\n",
    "def evaluate_fitness_iv(target, string):\n",
    "    score=0\n",
    "    for i in range(len(target)):        \n",
    "        if target[i] == string[i]:\n",
    "            score= score+1\n",
    "            \n",
    "    \n",
    "    return score\n",
    "\n",
    "def generate_random_string_iv(length):\n",
    "    return [random.randint(0, 9) for _ in range(length)]\n",
    "\n",
    "def mutate_iv(string): # mutate an element in the string to another random number\n",
    "    mutated_string = string.copy()    \n",
    "    index = random.randint(0, len(string) - 1)    \n",
    "    mutated_string[index] = random.randint(0, 9)\n",
    "    return mutated_string\n",
    "\n",
    "def random_crossover(parent1, parent2, length): #randomly mix 2 parents\n",
    "    sieve=np.random.randint(2, size=(1,length))[0]\n",
    "    not_sieve=sieve^1\n",
    "    child = parent1*sieve + parent2*not_sieve\n",
    "    return child\n",
    "\n"
   ]
  },
  {
   "cell_type": "markdown",
   "id": "bfd5fe0d",
   "metadata": {},
   "source": [
    "# The genetic algorithm"
   ]
  },
  {
   "cell_type": "markdown",
   "id": "a84eb9b5",
   "metadata": {},
   "source": [
    "This method is probably too convoluted then necessary but it's what worked for me to get an optimal score:\n",
    "\n",
    "-- 1. For the first 100 generations evolve as normal, 2 parents selected by the roulette wheel and child is created with random  crossover and maybe mutation. This usually reaches a score of 25/30\n",
    "\n",
    "-- 2. Then for 30 generations, one out of the 2 parents picked is always the highest scorer from the population. This reduces variation in the population but helps hone in on a better score. \n",
    "\n",
    "-- 3. On average steps 1 and 2 will result in a score of around 28/30. However sometimes it reaches a score of 30. To consistently get a score of 30, I create 20 islands that evolve seperately and the highest scoring island is picked."
   ]
  },
  {
   "cell_type": "code",
   "execution_count": 35,
   "id": "54d0176b",
   "metadata": {},
   "outputs": [
    {
     "data": {
      "image/png": "[encoded data removed]",
      "text/plain": [
       "<Figure size 432x288 with 1 Axes>"
      ]
     },
     "metadata": {
      "needs_background": "light"
     },
     "output_type": "display_data"
    }
   ],
   "source": [
    "def genetic_algorithm_iv(population_size, string_length, generations, mutation_rate, target):\n",
    "    population = [generate_random_string_iv(string_length) for _ in range(population_size)]\n",
    "    fitness_values = [evaluate_fitness_iv(target, string) for string in population]\n",
    "    \n",
    "    average_fitness = []\n",
    "    for generation in range(generations):\n",
    "        average_fitness.append(sum(fitness_values) / len(fitness_values))\n",
    "        new_population = []\n",
    "        while len(new_population) < population_size:\n",
    "            \n",
    "            if generation <100:           \n",
    "                parent1 = select_parent_roulette(population, fitness_values)\n",
    "                parent2 = select_parent_roulette(population, fitness_values)\n",
    "            else:\n",
    "                \n",
    "                parent1 = select_best_parent(population, fitness_values)\n",
    "                parent2 = select_parent_roulette(population, fitness_values)\n",
    "                \n",
    "            child = random_crossover(parent1, parent2, string_length)\n",
    "            if random.random() < mutation_rate:\n",
    "                child = mutate(child)\n",
    "            \n",
    "                \n",
    "            new_population.append(child)\n",
    "        \n",
    "        population = new_population\n",
    "        fitness_values = [evaluate_fitness_iv(target, string) for string in population]\n",
    "        \n",
    "    return average_fitness\n",
    "\n",
    "population_size = 100\n",
    "string_length = 30\n",
    "generations = 130\n",
    "mutation_rate = 0.05\n",
    "\n",
    "\n",
    "\n",
    "# Target randomly chosen:\n",
    "target=generate_random_string_iv(string_length)\n",
    "\n",
    "score = 0\n",
    "best_fitness= []\n",
    "for i in range(20):\n",
    "    average_fitness = genetic_algorithm_iv(population_size, string_length, generations, mutation_rate, target)\n",
    "    fit = max(average_fitness)\n",
    "    if fit >= score:\n",
    "        score = fit\n",
    "        best_fitness = average_fitness\n",
    "    \n",
    "plt.plot(best_fitness)\n",
    "plt.xlabel(\"Generation\")\n",
    "plt.ylabel(\"Average Fitness\")\n",
    "plt.show()"
   ]
  },
  {
   "cell_type": "markdown",
   "id": "434ec0f3",
   "metadata": {},
   "source": [
    "^^ Notice the spike in fitness after switching the parent selection method after 100 generations"
   ]
  }
 ],
 "metadata": {
  "kernelspec": {
   "display_name": "Python 3 (ipykernel)",
   "language": "python",
   "name": "python3"
  },
  "language_info": {
   "codemirror_mode": {
    "name": "ipython",
    "version": 3
   },
   "file_extension": ".py",
   "mimetype": "text/x-python",
   "name": "python",
   "nbconvert_exporter": "python",
   "pygments_lexer": "ipython3",
   "version": "3.9.7"
  }
 },
 "nbformat": 4,
 "nbformat_minor": 5
}
